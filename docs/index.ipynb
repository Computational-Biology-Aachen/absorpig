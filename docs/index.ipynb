{
 "cells": [
  {
   "cell_type": "markdown",
   "metadata": {},
   "source": [
    "# absorpig\n",
    "\n",
    "Extract **pig**ment composition of measured **absor**ption spectra of photosynthetic organisms.\n",
    "\n",
    "![logo.png](assets/logo.png)\n"
   ]
  },
  {
   "cell_type": "code",
   "execution_count": 1,
   "metadata": {},
   "outputs": [],
   "source": [
    "from pathlib import Path\n",
    "\n",
    "import pandas as pd\n",
    "\n",
    "import absorpig\n",
    "\n",
    "ASSETS = Path(\"assets\")"
   ]
  },
  {
   "cell_type": "markdown",
   "metadata": {},
   "source": [
    "First load your absorption spectrum.  \n",
    "This is assumend to be formatted as a `wavelength: absorption` pair.  "
   ]
  },
  {
   "cell_type": "code",
   "execution_count": null,
   "metadata": {},
   "outputs": [],
   "source": [
    "absorption_spectrum = pd.read_csv(\n",
    "    ASSETS / \"absorption_spectrum.csv\",\n",
    "    index_col=0,\n",
    ").iloc[:, 0]\n",
    "absorption_spectrum.head()\n"
   ]
  },
  {
   "cell_type": "markdown",
   "metadata": {},
   "source": [
    "Next run our routine, providing also the chlorophyll concentration and the mean diameter of your cells.  "
   ]
  },
  {
   "cell_type": "code",
   "execution_count": null,
   "metadata": {},
   "outputs": [],
   "source": [
    "res = absorpig.routine(\n",
    "    absorption_spectrum=absorption_spectrum,\n",
    "    chl_concentration=6.515,  # mg chl a / m^3 / 1e6\n",
    "    mean_diameter=1.75 * (1.89 / 2),  # [µm] diameter of the measured cells\n",
    ")\n",
    "\n",
    "res.plot()\n",
    "res.pigment_composition.head()"
   ]
  }
 ],
 "metadata": {
  "kernelspec": {
   "display_name": ".venv",
   "language": "python",
   "name": "python3"
  },
  "language_info": {
   "codemirror_mode": {
    "name": "ipython",
    "version": 3
   },
   "file_extension": ".py",
   "mimetype": "text/x-python",
   "name": "python",
   "nbconvert_exporter": "python",
   "pygments_lexer": "ipython3",
   "version": "3.12.7"
  }
 },
 "nbformat": 4,
 "nbformat_minor": 2
}
